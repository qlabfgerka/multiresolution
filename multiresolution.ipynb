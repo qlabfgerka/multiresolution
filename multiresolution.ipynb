{
 "cells": [
  {
   "cell_type": "code",
   "execution_count": null,
   "metadata": {},
   "outputs": [],
   "source": [
    "import matplotlib.pyplot as plt\n",
    "import numpy as np\n",
    "import cv2\n",
    "import os\n",
    "import math\n",
    "\n",
    "ASSETS_FOLDER = 'assets/'"
   ]
  },
  {
   "cell_type": "code",
   "execution_count": null,
   "metadata": {},
   "outputs": [],
   "source": [
    "def prepare_image():\n",
    "    print(\"prepare\")"
   ]
  },
  {
   "cell_type": "code",
   "execution_count": null,
   "metadata": {},
   "outputs": [],
   "source": [
    "def load_images_from_assets():\n",
    "  images = []\n",
    "  for filename in os.listdir(ASSETS_FOLDER):\n",
    "      image = cv2.imread(os.path.join(ASSETS_FOLDER, filename), -1)\n",
    "      if image is not None:\n",
    "          image = cv2.cvtColor(image, cv2.COLOR_BGR2RGB)\n",
    "          images.append(image)\n",
    "\n",
    "  return images"
   ]
  },
  {
   "cell_type": "code",
   "execution_count": null,
   "metadata": {},
   "outputs": [],
   "source": [
    "def display_images(images, num, f1, f2, title = \"\"):\n",
    "    indices = np.random.default_rng().choice(len(images), num, replace=False)\n",
    "    _, axes = plt.subplots(f1, f2, figsize=(8, 3), squeeze=False) \n",
    "    for r in range(axes.shape[0]):\n",
    "        for c in range(axes.shape[1]):\n",
    "            axes[r, c].imshow(images[indices[r * axes.shape[1] + c]])\n",
    "            axes[r, c].axis(\"off\")\n",
    "    plt.title(title)\n",
    "    plt.tight_layout()"
   ]
  },
  {
   "cell_type": "code",
   "execution_count": null,
   "metadata": {},
   "outputs": [],
   "source": [
    "def display_dataset_info(images, title, num, f1, f2):\n",
    "    heights = list(map(lambda image: image.shape[0], images))\n",
    "    widths = list(map(lambda image: image.shape[1], images))\n",
    "\n",
    "    print(f\"Število slik: {len(images)}\")\n",
    "    print(f\"Interval širine slik: [{np.min(widths)}, {np.max(widths)}]\") \n",
    "    print(f\"Interval višine slik: [{np.min(heights)}, {np.max(heights)}]\") \n",
    "    print(f\"Povprečna širina slik: {np.mean(widths) :.2f} +- {np.std(widths) :.2f}\") \n",
    "    print(f\"Povprečna višina slik: {np.mean(heights) :.2f} +- {np.std(heights) :.2f}\") \n",
    "    print(\"Primeri slik:\")\n",
    "    display_images(images, num, f1, f2, title)"
   ]
  },
  {
   "cell_type": "code",
   "execution_count": null,
   "metadata": {},
   "outputs": [],
   "source": [
    "def preprocess(images, factor, type):\n",
    "    low_res = []\n",
    "    high_res = []\n",
    "\n",
    "    for image in images:\n",
    "        smaller_size = (int(image.shape[1] / factor), int(image.shape[0] / factor))\n",
    "        bigger_size = (int(smaller_size[0] * factor), int(smaller_size[1] * factor))\n",
    "        low_res_image = cv2.resize(image, smaller_size, cv2.INTER_LINEAR)\n",
    "        high_res_image = cv2.resize(low_res_image, bigger_size, cv2.INTER_LINEAR)\n",
    "\n",
    "        low_res_image = cv2.cvtColor(low_res_image, cv2.COLOR_BGR2YCR_CB)\n",
    "        high_res_image = cv2.cvtColor(high_res_image, cv2.COLOR_BGR2YCR_CB)\n",
    "\n",
    "        if type == 0:\n",
    "            low_res_image = cv2.copyMakeBorder(low_res_image, 0, 33, 0, 33, cv2.BORDER_CONSTANT, None, value = 0)\n",
    "            high_res_image = cv2.copyMakeBorder(high_res_image, 0, 33, 0, 33, cv2.BORDER_CONSTANT, None, value = 0)\n",
    "            \n",
    "            for i in range(0, smaller_size[0], 14):\n",
    "                for j in range(0, smaller_size[1], 14):\n",
    "                    low_res.append(low_res_image[j:j+33, i:i+33])\n",
    "\n",
    "\n",
    "            for i in range(0, bigger_size[0], 14):\n",
    "                for j in range(0, bigger_size[1], 14):\n",
    "                    high_res.append(high_res_image[j:j+33, i:i+33])\n",
    "        else:\n",
    "            low_res.append(low_res_image[:,:,0])\n",
    "            high_res.append(high_res_image[:,:,0])\n",
    "\n",
    "    display_dataset_info(low_res, \"LOW RESOLUTION IMAGES, FACTOR: \" + str(factor), 15, 3, 5)\n",
    "    display_dataset_info(high_res, \"HIGH RESOLUTION IMAGES, FACTOR: \" + str(factor), 15, 3, 5)\n",
    "    return low_res, high_res"
   ]
  },
  {
   "cell_type": "code",
   "execution_count": null,
   "metadata": {},
   "outputs": [],
   "source": [
    "images = load_images_from_assets()\n",
    "\n",
    "display_dataset_info(images, \"DATASET\", 2, 1, 2)"
   ]
  },
  {
   "cell_type": "code",
   "execution_count": null,
   "metadata": {},
   "outputs": [],
   "source": [
    "factor = 2\n",
    "low_res, high_res = preprocess(images, factor, 0)"
   ]
  }
 ],
 "metadata": {
  "kernelspec": {
   "display_name": "Python 3.10.8 64-bit",
   "language": "python",
   "name": "python3"
  },
  "language_info": {
   "codemirror_mode": {
    "name": "ipython",
    "version": 3
   },
   "file_extension": ".py",
   "mimetype": "text/x-python",
   "name": "python",
   "nbconvert_exporter": "python",
   "pygments_lexer": "ipython3",
   "version": "3.10.8"
  },
  "orig_nbformat": 4,
  "vscode": {
   "interpreter": {
    "hash": "aee8b7b246df8f9039afb4144a1f6fd8d2ca17a180786b69acc140d282b71a49"
   }
  }
 },
 "nbformat": 4,
 "nbformat_minor": 2
}
